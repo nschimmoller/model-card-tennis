{
 "cells": [
  {
   "cell_type": "code",
   "execution_count": 1,
   "id": "29e31ec8",
   "metadata": {
    "ExecuteTime": {
     "end_time": "2023-04-24T03:04:09.464599Z",
     "start_time": "2023-04-24T03:00:42.879958Z"
    }
   },
   "outputs": [
    {
     "name": "stdout",
     "output_type": "stream",
     "text": [
      "Importing Matches Data\n",
      "Elapsed time since start: 1682305243.291712\n"
     ]
    },
    {
     "name": "stderr",
     "output_type": "stream",
     "text": [
      "/Users/nate.schimmoller/opt/anaconda3/lib/python3.9/site-packages/IPython/utils/py3compat.py:168: DtypeWarning: Columns (5,8,10,45,48) have mixed types.Specify dtype option on import or set low_memory=False.\n",
      "  exec(compiler(f.read(), fname, 'exec'), glob, loc)\n"
     ]
    },
    {
     "name": "stdout",
     "output_type": "stream",
     "text": [
      "Importing Tournaments Data\n",
      "Elapsed time since last call: 16.812812089920044\n",
      "Filter out old tournaments\n",
      "Elapsed time since last call: 0.05741477012634277\n",
      "Make tourney id\n",
      "Elapsed time since last call: 0.002930879592895508\n",
      "Select matches from tournments we previously filtered\n",
      "Elapsed time since last call: 0.0011942386627197266\n",
      "Creating final dataframe for matches\n",
      "Elapsed time since last call: 1.8377659320831299\n",
      "Remove doubles matches\n",
      "Elapsed time since last call: 5.350353956222534\n",
      "Create DF for each tournmanet\n",
      "Elapsed time since last call: 0.242156982421875\n",
      "Create structure for final_df\n",
      "Elapsed time since last call: 58.768633127212524\n",
      "Write match data into each dataframe\n",
      "Elapsed time since last call: 20.020489931106567\n",
      "Save final_kaggle_dataset CSV and PKL file\n",
      "Elapsed time since last call: 71.14866304397583\n",
      "Save each tournaments data to it's own CSV\n",
      "Elapsed time since last call: 12.082844018936157\n"
     ]
    }
   ],
   "source": [
    "%run -i 'Kaggle_Tennis_Data_PreProcessing.py'"
   ]
  },
  {
   "cell_type": "code",
   "execution_count": 2,
   "id": "27b12991",
   "metadata": {
    "ExecuteTime": {
     "end_time": "2023-04-24T03:09:12.136258Z",
     "start_time": "2023-04-24T03:08:22.349101Z"
    }
   },
   "outputs": [
    {
     "name": "stdout",
     "output_type": "stream",
     "text": [
      "Elapsed time since last call: 272.7392268180847\n",
      "Elapsed time since last call: 49.777905225753784\n"
     ]
    }
   ],
   "source": [
    "%run -i 'Remove Double Matches.py'"
   ]
  },
  {
   "cell_type": "code",
   "execution_count": 4,
   "id": "b6b72e90",
   "metadata": {
    "ExecuteTime": {
     "end_time": "2023-04-24T03:15:55.301641Z",
     "start_time": "2023-04-24T03:15:55.298772Z"
    }
   },
   "outputs": [
    {
     "name": "stdout",
     "output_type": "stream",
     "text": [
      "/Users/nate.schimmoller/Documents/GitHub/model-card-tennis/Tennis-Betting-ML\n"
     ]
    }
   ],
   "source": [
    "import os\n",
    "print(os.getcwd())"
   ]
  },
  {
   "cell_type": "code",
   "execution_count": 6,
   "id": "2886eaf9",
   "metadata": {
    "ExecuteTime": {
     "end_time": "2023-04-24T03:17:00.456742Z",
     "start_time": "2023-04-24T03:16:59.292472Z"
    }
   },
   "outputs": [
    {
     "name": "stdout",
     "output_type": "stream",
     "text": [
      "Reading in all player data\n",
      "Elapsed time since last call: 33.39203691482544\n",
      "Reading in atp player_data\n",
      "Elapsed time since last call: 0.1979820728302002\n",
      "Add underscore to name\n",
      "Elapsed time since last call: 0.1947190761566162\n",
      "Filter out missing player ids\n",
      "Elapsed time since last call: 0.13953304290771484\n",
      "Clean player name\n",
      "Elapsed time since last call: 0.023036718368530273\n",
      "Join clean and original player data\n",
      "Elapsed time since last call: 0.04722309112548828\n",
      "Remove players with missing date of birth (DOB), and format as date\n",
      "Elapsed time since last call: 0.14821195602416992\n",
      "Export data to players_data.csv and players_data.pkl\n",
      "Elapsed time since last call: 0.059122323989868164\n"
     ]
    }
   ],
   "source": [
    "%run -i 'Players_Data_PreProc.py'"
   ]
  },
  {
   "cell_type": "code",
   "execution_count": 144,
   "id": "de76da8a",
   "metadata": {
    "ExecuteTime": {
     "end_time": "2023-04-23T13:58:20.821982Z",
     "start_time": "2023-04-23T13:57:37.333470Z"
    }
   },
   "outputs": [
    {
     "name": "stdout",
     "output_type": "stream",
     "text": [
      "get unique players\n",
      "remove old players\n",
      "match ATP match and player data\n",
      "merge and save data\n"
     ]
    }
   ],
   "source": [
    "%run -i 'Players_names_fix.py'"
   ]
  },
  {
   "cell_type": "code",
   "execution_count": 44,
   "id": "c007af24",
   "metadata": {
    "ExecuteTime": {
     "end_time": "2023-04-23T17:54:26.119293Z",
     "start_time": "2023-04-23T17:54:26.116450Z"
    }
   },
   "outputs": [
    {
     "name": "stdout",
     "output_type": "stream",
     "text": [
      "/Users/nate.schimmoller/Tennis-Betting-ML-main\n"
     ]
    }
   ],
   "source": [
    "# os.chdir('../')\n",
    "print(os.getcwd())"
   ]
  },
  {
   "cell_type": "code",
   "execution_count": 45,
   "id": "c8a51b18",
   "metadata": {
    "ExecuteTime": {
     "end_time": "2023-04-23T17:58:07.128853Z",
     "start_time": "2023-04-23T17:54:31.179076Z"
    }
   },
   "outputs": [
    {
     "name": "stdout",
     "output_type": "stream",
     "text": [
      "/Users/nate.schimmoller/Tennis-Betting-ML-main\n",
      "/Users/nate.schimmoller/Tennis-Betting-ML-main/Tournaments_Data\n",
      "   start_date    end_date location court_surface  prize_money currency  year  \\\n",
      "0  2000-11-13  2000-11-19  Germany        Carpet      50000.0        $  2000   \n",
      "1  2000-11-13  2000-11-19  Germany        Carpet      50000.0        $  2000   \n",
      "2  2000-11-13  2000-11-19  Germany        Carpet      50000.0        $  2000   \n",
      "3  2000-11-13  2000-11-19  Germany        Carpet      50000.0        $  2000   \n",
      "4  2000-11-13  2000-11-19  Germany        Carpet      50000.0        $  2000   \n",
      "\n",
      "          player_id player_name          opponent_id  ...  \\\n",
      "0   andrea-gaudenzi         NaN  marc-kevin-goellner  ...   \n",
      "1  andrei-stoliarov         NaN        julian-knowle  ...   \n",
      "2  andrei-stoliarov         NaN        michal-tabara  ...   \n",
      "3  andrei-stoliarov         NaN    rainer-schuettler  ...   \n",
      "4  andrei-stoliarov         NaN         yves-allegro  ...   \n",
      "\n",
      "  return_games_played_2 service_points_won_2 service_points_attempted_2  \\\n",
      "0                   NaN                  NaN                        NaN   \n",
      "1                   NaN                  NaN                        NaN   \n",
      "2                   NaN                  NaN                        NaN   \n",
      "3                   NaN                  NaN                        NaN   \n",
      "4                   NaN                  NaN                        NaN   \n",
      "\n",
      "   return_points_won_2 return_points_attempted_2  total_points_won_2  \\\n",
      "0                  NaN                       NaN                 NaN   \n",
      "1                  NaN                       NaN                 NaN   \n",
      "2                  NaN                       NaN                 NaN   \n",
      "3                  NaN                       NaN                 NaN   \n",
      "4                  NaN                       NaN                 NaN   \n",
      "\n",
      "   player_2_victory retirement_2  won_first_set_2  nation_2  \n",
      "0                 t            f                f   Germany  \n",
      "1                 f            f                f   Germany  \n",
      "2                 f            f              NaN   Germany  \n",
      "3                 t            f                t   Germany  \n",
      "4                 f            f                f   Germany  \n",
      "\n",
      "[5 rows x 87 columns]\n",
      "   start_date    end_date location court_surface prize_money currency  year  \\\n",
      "0  2000-11-13  2000-11-19  Germany        Carpet     50000.0        $  2000   \n",
      "1  2000-11-13  2000-11-19  Germany        Carpet     50000.0        $  2000   \n",
      "2  2000-11-13  2000-11-19  Germany        Carpet     50000.0        $  2000   \n",
      "3  2000-11-13  2000-11-19  Germany        Carpet     50000.0        $  2000   \n",
      "4  2000-11-13  2000-11-19  Germany        Carpet     50000.0        $  2000   \n",
      "\n",
      "          player_id player_name          opponent_id  ...  \\\n",
      "0   andrea-gaudenzi         NaN  marc-kevin-goellner  ...   \n",
      "1  andrei-stoliarov         NaN        julian-knowle  ...   \n",
      "2  andrei-stoliarov         NaN        michal-tabara  ...   \n",
      "3  andrei-stoliarov         NaN    rainer-schuettler  ...   \n",
      "4  andrei-stoliarov         NaN         yves-allegro  ...   \n",
      "\n",
      "  return_games_played_2 service_points_won_2 service_points_attempted_2  \\\n",
      "0                   NaN                  NaN                        NaN   \n",
      "1                   NaN                  NaN                        NaN   \n",
      "2                   NaN                  NaN                        NaN   \n",
      "3                   NaN                  NaN                        NaN   \n",
      "4                   NaN                  NaN                        NaN   \n",
      "\n",
      "   return_points_won_2 return_points_attempted_2  total_points_won_2  \\\n",
      "0                  NaN                       NaN                 NaN   \n",
      "1                  NaN                       NaN                 NaN   \n",
      "2                  NaN                       NaN                 NaN   \n",
      "3                  NaN                       NaN                 NaN   \n",
      "4                  NaN                       NaN                 NaN   \n",
      "\n",
      "   player_2_victory retirement_2  won_first_set_2  nation_2  \n",
      "0                 t            f                f   Germany  \n",
      "1                 f            f                f   Germany  \n",
      "2                 f            f              NaN   Germany  \n",
      "3                 t            f                t   Germany  \n",
      "4                 f            f                f   Germany  \n",
      "\n",
      "[5 rows x 87 columns]\n"
     ]
    }
   ],
   "source": [
    "%run -i 'Data_Processing_2.py'"
   ]
  },
  {
   "cell_type": "code",
   "execution_count": 150,
   "id": "eec879c6",
   "metadata": {
    "ExecuteTime": {
     "end_time": "2023-04-23T14:50:32.125724Z",
     "start_time": "2023-04-23T14:50:32.122343Z"
    }
   },
   "outputs": [
    {
     "name": "stdout",
     "output_type": "stream",
     "text": [
      "/Users/nate.schimmoller/Tennis-Betting-ML-main/Tournaments_Data\n",
      "/Users/nate.schimmoller/Tennis-Betting-ML-main\n"
     ]
    }
   ],
   "source": [
    "print(os.getcwd())\n",
    "os.chdir('../')\n",
    "print(os.getcwd())"
   ]
  },
  {
   "cell_type": "code",
   "execution_count": 11,
   "id": "8462a365",
   "metadata": {
    "ExecuteTime": {
     "end_time": "2023-04-23T16:24:06.041934Z",
     "start_time": "2023-04-23T16:21:51.277269Z"
    }
   },
   "outputs": [
    {
     "name": "stdout",
     "output_type": "stream",
     "text": [
      "this is working\n",
      "['andrew-ilie' 'jiri-novak' 'fernando-vicente' 'todd-martin'\n",
      " 'hicham-arazi']\n",
      "Grouping dataframe\n",
      "Elapsed time since start: 1682266913.4572558\n",
      "Finished grouping dataframe, saved csv\n",
      "Elapsed time since last call: 132.3389551639557\n",
      "Initializing Elo Rankings for players in player_list\n",
      "Elapsed time since last call: 3.695487976074219e-05\n",
      "player\n"
     ]
    },
    {
     "ename": "KeyError",
     "evalue": "'andrew-ilie'",
     "output_type": "error",
     "traceback": [
      "\u001b[0;31m---------------------------------------------------------------------------\u001b[0m",
      "\u001b[0;31mKeyError\u001b[0m                                  Traceback (most recent call last)",
      "\u001b[0;32m~/opt/anaconda3/lib/python3.9/site-packages/pandas/core/indexes/base.py\u001b[0m in \u001b[0;36mget_loc\u001b[0;34m(self, key, method, tolerance)\u001b[0m\n\u001b[1;32m   3360\u001b[0m             \u001b[0;32mtry\u001b[0m\u001b[0;34m:\u001b[0m\u001b[0;34m\u001b[0m\u001b[0;34m\u001b[0m\u001b[0m\n\u001b[0;32m-> 3361\u001b[0;31m                 \u001b[0;32mreturn\u001b[0m \u001b[0mself\u001b[0m\u001b[0;34m.\u001b[0m\u001b[0m_engine\u001b[0m\u001b[0;34m.\u001b[0m\u001b[0mget_loc\u001b[0m\u001b[0;34m(\u001b[0m\u001b[0mcasted_key\u001b[0m\u001b[0;34m)\u001b[0m\u001b[0;34m\u001b[0m\u001b[0;34m\u001b[0m\u001b[0m\n\u001b[0m\u001b[1;32m   3362\u001b[0m             \u001b[0;32mexcept\u001b[0m \u001b[0mKeyError\u001b[0m \u001b[0;32mas\u001b[0m \u001b[0merr\u001b[0m\u001b[0;34m:\u001b[0m\u001b[0;34m\u001b[0m\u001b[0;34m\u001b[0m\u001b[0m\n",
      "\u001b[0;32m~/opt/anaconda3/lib/python3.9/site-packages/pandas/_libs/index.pyx\u001b[0m in \u001b[0;36mpandas._libs.index.IndexEngine.get_loc\u001b[0;34m()\u001b[0m\n",
      "\u001b[0;32mpandas/_libs/index_class_helper.pxi\u001b[0m in \u001b[0;36mpandas._libs.index.Int64Engine._check_type\u001b[0;34m()\u001b[0m\n",
      "\u001b[0;32mpandas/_libs/index_class_helper.pxi\u001b[0m in \u001b[0;36mpandas._libs.index.Int64Engine._check_type\u001b[0;34m()\u001b[0m\n",
      "\u001b[0;31mKeyError\u001b[0m: 'andrew-ilie'",
      "\nThe above exception was the direct cause of the following exception:\n",
      "\u001b[0;31mKeyError\u001b[0m                                  Traceback (most recent call last)",
      "\u001b[0;32m~/Tennis-Betting-ML-main/Features_Extraction_ELO_Rankings.py\u001b[0m in \u001b[0;36m<module>\u001b[0;34m\u001b[0m\n\u001b[1;32m     57\u001b[0m \u001b[0;32mfor\u001b[0m \u001b[0mplayer\u001b[0m \u001b[0;32min\u001b[0m \u001b[0mplayers_list\u001b[0m\u001b[0;34m:\u001b[0m\u001b[0;34m\u001b[0m\u001b[0;34m\u001b[0m\u001b[0m\n\u001b[1;32m     58\u001b[0m     \u001b[0mprint\u001b[0m\u001b[0;34m(\u001b[0m\u001b[0;34m\"player\"\u001b[0m\u001b[0;34m)\u001b[0m\u001b[0;34m\u001b[0m\u001b[0;34m\u001b[0m\u001b[0m\n\u001b[0;32m---> 59\u001b[0;31m     \u001b[0mtemp\u001b[0m \u001b[0;34m=\u001b[0m \u001b[0mgrouped\u001b[0m\u001b[0;34m.\u001b[0m\u001b[0mloc\u001b[0m\u001b[0;34m[\u001b[0m\u001b[0mplayer\u001b[0m\u001b[0;34m]\u001b[0m\u001b[0;34m\u001b[0m\u001b[0;34m\u001b[0m\u001b[0m\n\u001b[0m\u001b[1;32m     60\u001b[0m     \u001b[0mindex\u001b[0m \u001b[0;34m=\u001b[0m \u001b[0mtemp\u001b[0m\u001b[0;34m.\u001b[0m\u001b[0mindex\u001b[0m\u001b[0;34m[\u001b[0m\u001b[0;36m0\u001b[0m\u001b[0;34m]\u001b[0m\u001b[0;34m\u001b[0m\u001b[0;34m\u001b[0m\u001b[0m\n\u001b[1;32m     61\u001b[0m     \u001b[0;32mif\u001b[0m \u001b[0mtemp\u001b[0m\u001b[0;34m.\u001b[0m\u001b[0miloc\u001b[0m\u001b[0;34m[\u001b[0m\u001b[0;36m0\u001b[0m\u001b[0;34m]\u001b[0m\u001b[0;34m[\u001b[0m\u001b[0;34m'player_id'\u001b[0m\u001b[0;34m]\u001b[0m \u001b[0;34m==\u001b[0m \u001b[0mstr\u001b[0m\u001b[0;34m(\u001b[0m\u001b[0mplayer\u001b[0m\u001b[0;34m)\u001b[0m\u001b[0;34m:\u001b[0m\u001b[0;34m\u001b[0m\u001b[0;34m\u001b[0m\u001b[0m\n",
      "\u001b[0;32m~/opt/anaconda3/lib/python3.9/site-packages/pandas/core/indexing.py\u001b[0m in \u001b[0;36m__getitem__\u001b[0;34m(self, key)\u001b[0m\n\u001b[1;32m    929\u001b[0m \u001b[0;34m\u001b[0m\u001b[0m\n\u001b[1;32m    930\u001b[0m             \u001b[0mmaybe_callable\u001b[0m \u001b[0;34m=\u001b[0m \u001b[0mcom\u001b[0m\u001b[0;34m.\u001b[0m\u001b[0mapply_if_callable\u001b[0m\u001b[0;34m(\u001b[0m\u001b[0mkey\u001b[0m\u001b[0;34m,\u001b[0m \u001b[0mself\u001b[0m\u001b[0;34m.\u001b[0m\u001b[0mobj\u001b[0m\u001b[0;34m)\u001b[0m\u001b[0;34m\u001b[0m\u001b[0;34m\u001b[0m\u001b[0m\n\u001b[0;32m--> 931\u001b[0;31m             \u001b[0;32mreturn\u001b[0m \u001b[0mself\u001b[0m\u001b[0;34m.\u001b[0m\u001b[0m_getitem_axis\u001b[0m\u001b[0;34m(\u001b[0m\u001b[0mmaybe_callable\u001b[0m\u001b[0;34m,\u001b[0m \u001b[0maxis\u001b[0m\u001b[0;34m=\u001b[0m\u001b[0maxis\u001b[0m\u001b[0;34m)\u001b[0m\u001b[0;34m\u001b[0m\u001b[0;34m\u001b[0m\u001b[0m\n\u001b[0m\u001b[1;32m    932\u001b[0m \u001b[0;34m\u001b[0m\u001b[0m\n\u001b[1;32m    933\u001b[0m     \u001b[0;32mdef\u001b[0m \u001b[0m_is_scalar_access\u001b[0m\u001b[0;34m(\u001b[0m\u001b[0mself\u001b[0m\u001b[0;34m,\u001b[0m \u001b[0mkey\u001b[0m\u001b[0;34m:\u001b[0m \u001b[0mtuple\u001b[0m\u001b[0;34m)\u001b[0m\u001b[0;34m:\u001b[0m\u001b[0;34m\u001b[0m\u001b[0;34m\u001b[0m\u001b[0m\n",
      "\u001b[0;32m~/opt/anaconda3/lib/python3.9/site-packages/pandas/core/indexing.py\u001b[0m in \u001b[0;36m_getitem_axis\u001b[0;34m(self, key, axis)\u001b[0m\n\u001b[1;32m   1162\u001b[0m         \u001b[0;31m# fall thru to straight lookup\u001b[0m\u001b[0;34m\u001b[0m\u001b[0;34m\u001b[0m\u001b[0m\n\u001b[1;32m   1163\u001b[0m         \u001b[0mself\u001b[0m\u001b[0;34m.\u001b[0m\u001b[0m_validate_key\u001b[0m\u001b[0;34m(\u001b[0m\u001b[0mkey\u001b[0m\u001b[0;34m,\u001b[0m \u001b[0maxis\u001b[0m\u001b[0;34m)\u001b[0m\u001b[0;34m\u001b[0m\u001b[0;34m\u001b[0m\u001b[0m\n\u001b[0;32m-> 1164\u001b[0;31m         \u001b[0;32mreturn\u001b[0m \u001b[0mself\u001b[0m\u001b[0;34m.\u001b[0m\u001b[0m_get_label\u001b[0m\u001b[0;34m(\u001b[0m\u001b[0mkey\u001b[0m\u001b[0;34m,\u001b[0m \u001b[0maxis\u001b[0m\u001b[0;34m=\u001b[0m\u001b[0maxis\u001b[0m\u001b[0;34m)\u001b[0m\u001b[0;34m\u001b[0m\u001b[0;34m\u001b[0m\u001b[0m\n\u001b[0m\u001b[1;32m   1165\u001b[0m \u001b[0;34m\u001b[0m\u001b[0m\n\u001b[1;32m   1166\u001b[0m     \u001b[0;32mdef\u001b[0m \u001b[0m_get_slice_axis\u001b[0m\u001b[0;34m(\u001b[0m\u001b[0mself\u001b[0m\u001b[0;34m,\u001b[0m \u001b[0mslice_obj\u001b[0m\u001b[0;34m:\u001b[0m \u001b[0mslice\u001b[0m\u001b[0;34m,\u001b[0m \u001b[0maxis\u001b[0m\u001b[0;34m:\u001b[0m \u001b[0mint\u001b[0m\u001b[0;34m)\u001b[0m\u001b[0;34m:\u001b[0m\u001b[0;34m\u001b[0m\u001b[0;34m\u001b[0m\u001b[0m\n",
      "\u001b[0;32m~/opt/anaconda3/lib/python3.9/site-packages/pandas/core/indexing.py\u001b[0m in \u001b[0;36m_get_label\u001b[0;34m(self, label, axis)\u001b[0m\n\u001b[1;32m   1111\u001b[0m     \u001b[0;32mdef\u001b[0m \u001b[0m_get_label\u001b[0m\u001b[0;34m(\u001b[0m\u001b[0mself\u001b[0m\u001b[0;34m,\u001b[0m \u001b[0mlabel\u001b[0m\u001b[0;34m,\u001b[0m \u001b[0maxis\u001b[0m\u001b[0;34m:\u001b[0m \u001b[0mint\u001b[0m\u001b[0;34m)\u001b[0m\u001b[0;34m:\u001b[0m\u001b[0;34m\u001b[0m\u001b[0;34m\u001b[0m\u001b[0m\n\u001b[1;32m   1112\u001b[0m         \u001b[0;31m# GH#5667 this will fail if the label is not present in the axis.\u001b[0m\u001b[0;34m\u001b[0m\u001b[0;34m\u001b[0m\u001b[0m\n\u001b[0;32m-> 1113\u001b[0;31m         \u001b[0;32mreturn\u001b[0m \u001b[0mself\u001b[0m\u001b[0;34m.\u001b[0m\u001b[0mobj\u001b[0m\u001b[0;34m.\u001b[0m\u001b[0mxs\u001b[0m\u001b[0;34m(\u001b[0m\u001b[0mlabel\u001b[0m\u001b[0;34m,\u001b[0m \u001b[0maxis\u001b[0m\u001b[0;34m=\u001b[0m\u001b[0maxis\u001b[0m\u001b[0;34m)\u001b[0m\u001b[0;34m\u001b[0m\u001b[0;34m\u001b[0m\u001b[0m\n\u001b[0m\u001b[1;32m   1114\u001b[0m \u001b[0;34m\u001b[0m\u001b[0m\n\u001b[1;32m   1115\u001b[0m     \u001b[0;32mdef\u001b[0m \u001b[0m_handle_lowerdim_multi_index_axis0\u001b[0m\u001b[0;34m(\u001b[0m\u001b[0mself\u001b[0m\u001b[0;34m,\u001b[0m \u001b[0mtup\u001b[0m\u001b[0;34m:\u001b[0m \u001b[0mtuple\u001b[0m\u001b[0;34m)\u001b[0m\u001b[0;34m:\u001b[0m\u001b[0;34m\u001b[0m\u001b[0;34m\u001b[0m\u001b[0m\n",
      "\u001b[0;32m~/opt/anaconda3/lib/python3.9/site-packages/pandas/core/generic.py\u001b[0m in \u001b[0;36mxs\u001b[0;34m(self, key, axis, level, drop_level)\u001b[0m\n\u001b[1;32m   3774\u001b[0m                 \u001b[0;32mraise\u001b[0m \u001b[0mTypeError\u001b[0m\u001b[0;34m(\u001b[0m\u001b[0;34mf\"Expected label or tuple of labels, got {key}\"\u001b[0m\u001b[0;34m)\u001b[0m \u001b[0;32mfrom\u001b[0m \u001b[0me\u001b[0m\u001b[0;34m\u001b[0m\u001b[0;34m\u001b[0m\u001b[0m\n\u001b[1;32m   3775\u001b[0m         \u001b[0;32melse\u001b[0m\u001b[0;34m:\u001b[0m\u001b[0;34m\u001b[0m\u001b[0;34m\u001b[0m\u001b[0m\n\u001b[0;32m-> 3776\u001b[0;31m             \u001b[0mloc\u001b[0m \u001b[0;34m=\u001b[0m \u001b[0mindex\u001b[0m\u001b[0;34m.\u001b[0m\u001b[0mget_loc\u001b[0m\u001b[0;34m(\u001b[0m\u001b[0mkey\u001b[0m\u001b[0;34m)\u001b[0m\u001b[0;34m\u001b[0m\u001b[0;34m\u001b[0m\u001b[0m\n\u001b[0m\u001b[1;32m   3777\u001b[0m \u001b[0;34m\u001b[0m\u001b[0m\n\u001b[1;32m   3778\u001b[0m             \u001b[0;32mif\u001b[0m \u001b[0misinstance\u001b[0m\u001b[0;34m(\u001b[0m\u001b[0mloc\u001b[0m\u001b[0;34m,\u001b[0m \u001b[0mnp\u001b[0m\u001b[0;34m.\u001b[0m\u001b[0mndarray\u001b[0m\u001b[0;34m)\u001b[0m\u001b[0;34m:\u001b[0m\u001b[0;34m\u001b[0m\u001b[0;34m\u001b[0m\u001b[0m\n",
      "\u001b[0;32m~/opt/anaconda3/lib/python3.9/site-packages/pandas/core/indexes/base.py\u001b[0m in \u001b[0;36mget_loc\u001b[0;34m(self, key, method, tolerance)\u001b[0m\n\u001b[1;32m   3361\u001b[0m                 \u001b[0;32mreturn\u001b[0m \u001b[0mself\u001b[0m\u001b[0;34m.\u001b[0m\u001b[0m_engine\u001b[0m\u001b[0;34m.\u001b[0m\u001b[0mget_loc\u001b[0m\u001b[0;34m(\u001b[0m\u001b[0mcasted_key\u001b[0m\u001b[0;34m)\u001b[0m\u001b[0;34m\u001b[0m\u001b[0;34m\u001b[0m\u001b[0m\n\u001b[1;32m   3362\u001b[0m             \u001b[0;32mexcept\u001b[0m \u001b[0mKeyError\u001b[0m \u001b[0;32mas\u001b[0m \u001b[0merr\u001b[0m\u001b[0;34m:\u001b[0m\u001b[0;34m\u001b[0m\u001b[0;34m\u001b[0m\u001b[0m\n\u001b[0;32m-> 3363\u001b[0;31m                 \u001b[0;32mraise\u001b[0m \u001b[0mKeyError\u001b[0m\u001b[0;34m(\u001b[0m\u001b[0mkey\u001b[0m\u001b[0;34m)\u001b[0m \u001b[0;32mfrom\u001b[0m \u001b[0merr\u001b[0m\u001b[0;34m\u001b[0m\u001b[0;34m\u001b[0m\u001b[0m\n\u001b[0m\u001b[1;32m   3364\u001b[0m \u001b[0;34m\u001b[0m\u001b[0m\n\u001b[1;32m   3365\u001b[0m         \u001b[0;32mif\u001b[0m \u001b[0mis_scalar\u001b[0m\u001b[0;34m(\u001b[0m\u001b[0mkey\u001b[0m\u001b[0;34m)\u001b[0m \u001b[0;32mand\u001b[0m \u001b[0misna\u001b[0m\u001b[0;34m(\u001b[0m\u001b[0mkey\u001b[0m\u001b[0;34m)\u001b[0m \u001b[0;32mand\u001b[0m \u001b[0;32mnot\u001b[0m \u001b[0mself\u001b[0m\u001b[0;34m.\u001b[0m\u001b[0mhasnans\u001b[0m\u001b[0;34m:\u001b[0m\u001b[0;34m\u001b[0m\u001b[0;34m\u001b[0m\u001b[0m\n",
      "\u001b[0;31mKeyError\u001b[0m: 'andrew-ilie'"
     ]
    }
   ],
   "source": [
    "%run -i 'Features_Extraction_ELO_Rankings.py'"
   ]
  },
  {
   "cell_type": "code",
   "execution_count": 6,
   "id": "6d4c727e",
   "metadata": {
    "ExecuteTime": {
     "end_time": "2023-04-23T15:49:35.599748Z",
     "start_time": "2023-04-23T15:47:24.138878Z"
    }
   },
   "outputs": [
    {
     "name": "stdout",
     "output_type": "stream",
     "text": [
      "1\n",
      "2\n",
      "3\n",
      "4\n"
     ]
    }
   ],
   "source": [
    "players_list = pd.read_csv('players_data_1.csv')\n",
    "players_list = players_list['player_id']\n",
    "players_list = players_list.to_list()\n",
    "players_list\n",
    "\n",
    "\n",
    "# In[8]:\n",
    "print(\"1\")\n",
    "\n",
    "#load matches data\n",
    "matches_df = pd.read_csv('final_df.csv', parse_dates=True)\n",
    "\n",
    "print(\"2\")\n",
    "# In[41]:\n",
    "\n",
    "\n",
    "# Get a unique list of all players in the DataFrame\n",
    "players_list = pd.unique(matches_df[['player_id', 'opponent_id']].values.ravel())\n",
    "print(\"3\")\n",
    "\n",
    "# Group the DataFrame by player_id and opponent_id columns and sort each group by start_date\n",
    "grouped = matches_df.groupby(['player_id', 'opponent_id'], group_keys=False, sort=False).apply(lambda x: x.sort_values(by='start_date'))\n",
    "print(\"4\")"
   ]
  },
  {
   "cell_type": "code",
   "execution_count": null,
   "id": "24f38ac9",
   "metadata": {},
   "outputs": [],
   "source": []
  }
 ],
 "metadata": {
  "kernelspec": {
   "display_name": "Python 3 (ipykernel)",
   "language": "python",
   "name": "python3"
  },
  "language_info": {
   "codemirror_mode": {
    "name": "ipython",
    "version": 3
   },
   "file_extension": ".py",
   "mimetype": "text/x-python",
   "name": "python",
   "nbconvert_exporter": "python",
   "pygments_lexer": "ipython3",
   "version": "3.9.7"
  },
  "toc": {
   "base_numbering": 1,
   "nav_menu": {},
   "number_sections": true,
   "sideBar": true,
   "skip_h1_title": false,
   "title_cell": "Table of Contents",
   "title_sidebar": "Contents",
   "toc_cell": false,
   "toc_position": {},
   "toc_section_display": true,
   "toc_window_display": true
  },
  "varInspector": {
   "cols": {
    "lenName": 16,
    "lenType": 16,
    "lenVar": 40
   },
   "kernels_config": {
    "python": {
     "delete_cmd_postfix": "",
     "delete_cmd_prefix": "del ",
     "library": "var_list.py",
     "varRefreshCmd": "print(var_dic_list())"
    },
    "r": {
     "delete_cmd_postfix": ") ",
     "delete_cmd_prefix": "rm(",
     "library": "var_list.r",
     "varRefreshCmd": "cat(var_dic_list()) "
    }
   },
   "types_to_exclude": [
    "module",
    "function",
    "builtin_function_or_method",
    "instance",
    "_Feature"
   ],
   "window_display": false
  }
 },
 "nbformat": 4,
 "nbformat_minor": 5
}
